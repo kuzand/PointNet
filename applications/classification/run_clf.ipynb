{
  "cells": [
    {
      "cell_type": "markdown",
      "metadata": {
        "id": "TQv-lH-rIg6R"
      },
      "source": [
        "# PointNet for 3D object classification on ModelNet dataset\n",
        "\n"
      ]
    },
    {
      "cell_type": "code",
      "execution_count": 1,
      "metadata": {
        "colab": {
          "base_uri": "https://localhost:8080/"
        },
        "id": "hELJR85JMtc4",
        "outputId": "e3cae42a-9b17-41dc-ce02-a87f8339068c"
      },
      "outputs": [
        {
          "output_type": "stream",
          "name": "stdout",
          "text": [
            "Mounted at /content/drive\n"
          ]
        }
      ],
      "source": [
        "from google.colab import drive\n",
        "drive.mount('/content/drive')"
      ]
    },
    {
      "cell_type": "code",
      "execution_count": 2,
      "metadata": {
        "colab": {
          "base_uri": "https://localhost:8080/"
        },
        "id": "vP_7DG1Frn-s",
        "outputId": "c238cf02-3860-4d24-9c51-8ea51b980a4a"
      },
      "outputs": [
        {
          "output_type": "stream",
          "name": "stdout",
          "text": [
            "/content/drive/MyDrive/PointNet/applications/classification\n"
          ]
        }
      ],
      "source": [
        "BASE_DIR = \"/content/drive/MyDrive/PointNet/applications/classification/\"\n",
        "%cd $BASE_DIR"
      ]
    },
    {
      "cell_type": "code",
      "execution_count": 3,
      "metadata": {
        "colab": {
          "base_uri": "https://localhost:8080/"
        },
        "id": "6Fh6CH78kB0S",
        "outputId": "874c4a14-21b2-4a88-b238-0a0759df582d"
      },
      "outputs": [
        {
          "output_type": "stream",
          "name": "stdout",
          "text": [
            "Collecting trimesh\n",
            "  Downloading trimesh-3.12.0-py3-none-any.whl (646 kB)\n",
            "\u001b[?25l\r\u001b[K     |▌                               | 10 kB 27.2 MB/s eta 0:00:01\r\u001b[K     |█                               | 20 kB 8.6 MB/s eta 0:00:01\r\u001b[K     |█▌                              | 30 kB 7.5 MB/s eta 0:00:01\r\u001b[K     |██                              | 40 kB 3.6 MB/s eta 0:00:01\r\u001b[K     |██▌                             | 51 kB 3.6 MB/s eta 0:00:01\r\u001b[K     |███                             | 61 kB 4.3 MB/s eta 0:00:01\r\u001b[K     |███▌                            | 71 kB 4.5 MB/s eta 0:00:01\r\u001b[K     |████                            | 81 kB 4.8 MB/s eta 0:00:01\r\u001b[K     |████▋                           | 92 kB 5.3 MB/s eta 0:00:01\r\u001b[K     |█████                           | 102 kB 4.3 MB/s eta 0:00:01\r\u001b[K     |█████▋                          | 112 kB 4.3 MB/s eta 0:00:01\r\u001b[K     |██████                          | 122 kB 4.3 MB/s eta 0:00:01\r\u001b[K     |██████▋                         | 133 kB 4.3 MB/s eta 0:00:01\r\u001b[K     |███████                         | 143 kB 4.3 MB/s eta 0:00:01\r\u001b[K     |███████▋                        | 153 kB 4.3 MB/s eta 0:00:01\r\u001b[K     |████████▏                       | 163 kB 4.3 MB/s eta 0:00:01\r\u001b[K     |████████▋                       | 174 kB 4.3 MB/s eta 0:00:01\r\u001b[K     |█████████▏                      | 184 kB 4.3 MB/s eta 0:00:01\r\u001b[K     |█████████▋                      | 194 kB 4.3 MB/s eta 0:00:01\r\u001b[K     |██████████▏                     | 204 kB 4.3 MB/s eta 0:00:01\r\u001b[K     |██████████▋                     | 215 kB 4.3 MB/s eta 0:00:01\r\u001b[K     |███████████▏                    | 225 kB 4.3 MB/s eta 0:00:01\r\u001b[K     |███████████▋                    | 235 kB 4.3 MB/s eta 0:00:01\r\u001b[K     |████████████▏                   | 245 kB 4.3 MB/s eta 0:00:01\r\u001b[K     |████████████▊                   | 256 kB 4.3 MB/s eta 0:00:01\r\u001b[K     |█████████████▏                  | 266 kB 4.3 MB/s eta 0:00:01\r\u001b[K     |█████████████▊                  | 276 kB 4.3 MB/s eta 0:00:01\r\u001b[K     |██████████████▏                 | 286 kB 4.3 MB/s eta 0:00:01\r\u001b[K     |██████████████▊                 | 296 kB 4.3 MB/s eta 0:00:01\r\u001b[K     |███████████████▏                | 307 kB 4.3 MB/s eta 0:00:01\r\u001b[K     |███████████████▊                | 317 kB 4.3 MB/s eta 0:00:01\r\u001b[K     |████████████████▎               | 327 kB 4.3 MB/s eta 0:00:01\r\u001b[K     |████████████████▊               | 337 kB 4.3 MB/s eta 0:00:01\r\u001b[K     |█████████████████▎              | 348 kB 4.3 MB/s eta 0:00:01\r\u001b[K     |█████████████████▊              | 358 kB 4.3 MB/s eta 0:00:01\r\u001b[K     |██████████████████▎             | 368 kB 4.3 MB/s eta 0:00:01\r\u001b[K     |██████████████████▊             | 378 kB 4.3 MB/s eta 0:00:01\r\u001b[K     |███████████████████▎            | 389 kB 4.3 MB/s eta 0:00:01\r\u001b[K     |███████████████████▊            | 399 kB 4.3 MB/s eta 0:00:01\r\u001b[K     |████████████████████▎           | 409 kB 4.3 MB/s eta 0:00:01\r\u001b[K     |████████████████████▉           | 419 kB 4.3 MB/s eta 0:00:01\r\u001b[K     |█████████████████████▎          | 430 kB 4.3 MB/s eta 0:00:01\r\u001b[K     |█████████████████████▉          | 440 kB 4.3 MB/s eta 0:00:01\r\u001b[K     |██████████████████████▎         | 450 kB 4.3 MB/s eta 0:00:01\r\u001b[K     |██████████████████████▉         | 460 kB 4.3 MB/s eta 0:00:01\r\u001b[K     |███████████████████████▎        | 471 kB 4.3 MB/s eta 0:00:01\r\u001b[K     |███████████████████████▉        | 481 kB 4.3 MB/s eta 0:00:01\r\u001b[K     |████████████████████████▍       | 491 kB 4.3 MB/s eta 0:00:01\r\u001b[K     |████████████████████████▉       | 501 kB 4.3 MB/s eta 0:00:01\r\u001b[K     |█████████████████████████▍      | 512 kB 4.3 MB/s eta 0:00:01\r\u001b[K     |█████████████████████████▉      | 522 kB 4.3 MB/s eta 0:00:01\r\u001b[K     |██████████████████████████▍     | 532 kB 4.3 MB/s eta 0:00:01\r\u001b[K     |██████████████████████████▉     | 542 kB 4.3 MB/s eta 0:00:01\r\u001b[K     |███████████████████████████▍    | 552 kB 4.3 MB/s eta 0:00:01\r\u001b[K     |████████████████████████████    | 563 kB 4.3 MB/s eta 0:00:01\r\u001b[K     |████████████████████████████▍   | 573 kB 4.3 MB/s eta 0:00:01\r\u001b[K     |█████████████████████████████   | 583 kB 4.3 MB/s eta 0:00:01\r\u001b[K     |█████████████████████████████▍  | 593 kB 4.3 MB/s eta 0:00:01\r\u001b[K     |██████████████████████████████  | 604 kB 4.3 MB/s eta 0:00:01\r\u001b[K     |██████████████████████████████▍ | 614 kB 4.3 MB/s eta 0:00:01\r\u001b[K     |███████████████████████████████ | 624 kB 4.3 MB/s eta 0:00:01\r\u001b[K     |███████████████████████████████▍| 634 kB 4.3 MB/s eta 0:00:01\r\u001b[K     |████████████████████████████████| 645 kB 4.3 MB/s eta 0:00:01\r\u001b[K     |████████████████████████████████| 646 kB 4.3 MB/s \n",
            "\u001b[?25hRequirement already satisfied: numpy in /usr/local/lib/python3.7/dist-packages (from trimesh) (1.21.6)\n",
            "Installing collected packages: trimesh\n",
            "Successfully installed trimesh-3.12.0\n"
          ]
        }
      ],
      "source": [
        "!pip install trimesh"
      ]
    },
    {
      "cell_type": "code",
      "execution_count": 4,
      "metadata": {
        "colab": {
          "base_uri": "https://localhost:8080/"
        },
        "id": "lPJR-hJ_jrNi",
        "outputId": "d972e4f3-d8d1-443d-f99a-7325b7ed49f5"
      },
      "outputs": [
        {
          "output_type": "stream",
          "name": "stdout",
          "text": [
            "Tue May 17 23:02:17 EEST 2022\n"
          ]
        }
      ],
      "source": [
        "!rm /etc/localtime\n",
        "!ln -s /usr/share/zoneinfo/Europe/Athens /etc/localtime\n",
        "!date"
      ]
    },
    {
      "cell_type": "markdown",
      "metadata": {
        "id": "UiswkIdX-jrP"
      },
      "source": [
        "# Training"
      ]
    },
    {
      "cell_type": "code",
      "source": [
        "!python train_clf.py \\\n",
        "--hdf5_path \"../../data/datasets/modelnet10_2048_normalized.hdf5\" \\\n",
        "--device \"cuda\" \\\n",
        "--num_epochs 20 \\\n",
        "--lr_step_size 2 \\\n",
        "--data_augment 1 \\\n",
        "--balance 1 \\\n",
        "--print_every_batch 10 \\\n",
        "--save_checkpoint_every 10 \\\n",
        "--plot_losses 1 \\\n",
        "--plots_dir \"plots\" \\\n",
        "--log_dir \"logs\" \\\n",
        "--checkpoint_save_dir \"checkpoints\""
      ],
      "metadata": {
        "colab": {
          "base_uri": "https://localhost:8080/"
        },
        "id": "GENrxYAmH_DY",
        "outputId": "905edd7a-61e1-4e2c-9ca1-c1cd6c87b9a0"
      },
      "execution_count": 5,
      "outputs": [
        {
          "output_type": "stream",
          "name": "stdout",
          "text": [
            "Training on: cuda\n",
            "TRAINING...\n",
            "ARGS: {'hdf5_path': '../../data/datasets/modelnet10_2048_normalized.hdf5', 'object_path': '', 'resume_path': '', 'checkpoint_path': '', 'id_to_class_path': '', 'checkpoint_save_dir': 'checkpoints', 'log_dir': 'logs', 'plots_dir': 'plots', 'start_epoch': 1, 'num_epochs': 20, 'batch_size_train': 32, 'batch_size_valid': 32, 'batch_size_test': 32, 'balance': True, 'data_augment': True, 'lr_init': 0.001, 'lr_step_size': 2, 'lr_gamma': 0.1, 'reg_weights': [0.0, 0.001], 'save_checkpoint_every': 10, 'print_every_batch': 10, 'plot_confusion_mat': False, 'plot_losses': True, 'device': 'cuda', 'num_classes': 10, 'top_k': 5, 'seed': 1235976}\n",
            "Transforms: Compose(\n",
            "    RandomRotation(angle_range=[-0.262, 0.262], axis_vec=[0, 0, 1])\n",
            "    RandomTranslation(translation_range=[-0.1, 0.1])\n",
            "    RandomJitter(std=0.01, clip=0.05)\n",
            "    RandomScale(scale_low=0.8, scale_high=1.2)\n",
            "    Shuffle(seed=1235976)\n",
            ")\n",
            "Created train and valid datasets from ../../data/datasets/modelnet10_2048_normalized.hdf5.\n",
            "\n",
            "------------ Epoch 1 / 20 ------------\n",
            "[Batch: 10/94] train loss: 2.005, accuracy: 0.469\n",
            "[Batch: 20/94] train loss: 1.603, accuracy: 0.469\n",
            "[Batch: 30/94] train loss: 1.009, accuracy: 0.750\n",
            "[Batch: 40/94] train loss: 1.112, accuracy: 0.688\n",
            "[Batch: 50/94] train loss: 0.984, accuracy: 0.750\n",
            "[Batch: 60/94] train loss: 1.049, accuracy: 0.656\n",
            "[Batch: 70/94] train loss: 0.899, accuracy: 0.750\n",
            "[Batch: 80/94] train loss: 0.977, accuracy: 0.781\n",
            "[Batch: 90/94] train loss: 0.916, accuracy: 0.719\n",
            "Epoch 1 train loss: 1.199, accuracy: 0.621 [ELT:  42.43 sec]\n",
            "Epoch 1 valid loss: 0.967, accuracy: 0.676 [ELT:  8.21 sec]\n",
            "\n",
            "------------ Epoch 2 / 20 ------------\n",
            "[Batch: 10/94] train loss: 0.855, accuracy: 0.750\n",
            "[Batch: 20/94] train loss: 0.913, accuracy: 0.625\n",
            "[Batch: 30/94] train loss: 0.779, accuracy: 0.781\n",
            "[Batch: 40/94] train loss: 0.671, accuracy: 0.719\n",
            "[Batch: 50/94] train loss: 0.780, accuracy: 0.719\n",
            "[Batch: 60/94] train loss: 0.696, accuracy: 0.750\n",
            "[Batch: 70/94] train loss: 0.506, accuracy: 0.906\n",
            "[Batch: 80/94] train loss: 0.771, accuracy: 0.750\n",
            "[Batch: 90/94] train loss: 0.812, accuracy: 0.750\n",
            "Epoch 2 train loss: 0.763, accuracy: 0.767 [ELT:  42.33 sec]\n",
            "Epoch 2 valid loss: 0.469, accuracy: 0.839 [ELT:  8.20 sec]\n",
            "\n",
            "------------ Epoch 3 / 20 ------------\n",
            "[Batch: 10/94] train loss: 0.558, accuracy: 0.812\n",
            "[Batch: 20/94] train loss: 0.422, accuracy: 0.875\n",
            "[Batch: 30/94] train loss: 0.943, accuracy: 0.719\n",
            "[Batch: 40/94] train loss: 0.343, accuracy: 0.906\n",
            "[Batch: 50/94] train loss: 0.475, accuracy: 0.875\n",
            "[Batch: 60/94] train loss: 0.459, accuracy: 0.812\n",
            "[Batch: 70/94] train loss: 0.382, accuracy: 0.906\n",
            "[Batch: 80/94] train loss: 0.353, accuracy: 0.844\n",
            "[Batch: 90/94] train loss: 0.454, accuracy: 0.844\n",
            "Epoch 3 train loss: 0.487, accuracy: 0.857 [ELT:  42.59 sec]\n",
            "Epoch 3 valid loss: 0.275, accuracy: 0.920 [ELT:  8.22 sec]\n",
            "\n",
            "------------ Epoch 4 / 20 ------------\n",
            "[Batch: 10/94] train loss: 0.367, accuracy: 0.875\n",
            "[Batch: 20/94] train loss: 0.500, accuracy: 0.875\n",
            "[Batch: 30/94] train loss: 0.189, accuracy: 0.969\n",
            "[Batch: 40/94] train loss: 0.384, accuracy: 0.906\n",
            "[Batch: 50/94] train loss: 0.356, accuracy: 0.875\n",
            "[Batch: 60/94] train loss: 0.163, accuracy: 1.000\n",
            "[Batch: 70/94] train loss: 0.519, accuracy: 0.812\n",
            "[Batch: 80/94] train loss: 0.231, accuracy: 0.938\n",
            "[Batch: 90/94] train loss: 0.647, accuracy: 0.812\n",
            "Epoch 4 train loss: 0.392, accuracy: 0.875 [ELT:  42.47 sec]\n",
            "Epoch 4 valid loss: 0.253, accuracy: 0.925 [ELT:  8.21 sec]\n",
            "\n",
            "------------ Epoch 5 / 20 ------------\n",
            "[Batch: 10/94] train loss: 0.161, accuracy: 0.969\n",
            "[Batch: 20/94] train loss: 0.333, accuracy: 0.906\n",
            "[Batch: 30/94] train loss: 0.364, accuracy: 0.906\n",
            "[Batch: 40/94] train loss: 0.339, accuracy: 0.906\n",
            "[Batch: 50/94] train loss: 0.371, accuracy: 0.938\n",
            "[Batch: 60/94] train loss: 0.315, accuracy: 0.906\n",
            "[Batch: 70/94] train loss: 0.330, accuracy: 0.906\n",
            "[Batch: 80/94] train loss: 0.335, accuracy: 0.906\n",
            "[Batch: 90/94] train loss: 0.332, accuracy: 0.906\n",
            "Epoch 5 train loss: 0.320, accuracy: 0.903 [ELT:  42.44 sec]\n",
            "Epoch 5 valid loss: 0.227, accuracy: 0.928 [ELT:  8.27 sec]\n",
            "\n",
            "------------ Epoch 6 / 20 ------------\n",
            "[Batch: 10/94] train loss: 0.251, accuracy: 0.938\n",
            "[Batch: 20/94] train loss: 0.685, accuracy: 0.812\n",
            "[Batch: 30/94] train loss: 0.304, accuracy: 0.875\n",
            "[Batch: 40/94] train loss: 0.430, accuracy: 0.938\n",
            "[Batch: 50/94] train loss: 0.342, accuracy: 0.906\n",
            "[Batch: 60/94] train loss: 0.364, accuracy: 0.906\n",
            "[Batch: 70/94] train loss: 0.226, accuracy: 0.906\n",
            "[Batch: 80/94] train loss: 0.263, accuracy: 0.906\n",
            "[Batch: 90/94] train loss: 0.427, accuracy: 0.812\n",
            "Epoch 6 train loss: 0.345, accuracy: 0.894 [ELT:  42.50 sec]\n",
            "Epoch 6 valid loss: 0.216, accuracy: 0.937 [ELT:  8.19 sec]\n",
            "\n",
            "------------ Epoch 7 / 20 ------------\n",
            "[Batch: 10/94] train loss: 0.360, accuracy: 0.844\n",
            "[Batch: 20/94] train loss: 0.414, accuracy: 0.844\n",
            "[Batch: 30/94] train loss: 0.435, accuracy: 0.875\n",
            "[Batch: 40/94] train loss: 0.226, accuracy: 0.938\n",
            "[Batch: 50/94] train loss: 0.210, accuracy: 0.969\n",
            "[Batch: 60/94] train loss: 0.100, accuracy: 1.000\n",
            "[Batch: 70/94] train loss: 0.279, accuracy: 0.875\n",
            "[Batch: 80/94] train loss: 0.315, accuracy: 0.906\n",
            "[Batch: 90/94] train loss: 0.194, accuracy: 0.938\n",
            "Epoch 7 train loss: 0.322, accuracy: 0.905 [ELT:  42.23 sec]\n",
            "Epoch 7 valid loss: 0.220, accuracy: 0.939 [ELT:  8.19 sec]\n",
            "\n",
            "------------ Epoch 8 / 20 ------------\n",
            "[Batch: 10/94] train loss: 0.273, accuracy: 0.875\n",
            "[Batch: 20/94] train loss: 0.220, accuracy: 0.969\n",
            "[Batch: 30/94] train loss: 0.426, accuracy: 0.844\n",
            "[Batch: 40/94] train loss: 0.184, accuracy: 1.000\n",
            "[Batch: 50/94] train loss: 0.676, accuracy: 0.750\n",
            "[Batch: 60/94] train loss: 0.279, accuracy: 0.875\n",
            "[Batch: 70/94] train loss: 0.457, accuracy: 0.781\n",
            "[Batch: 80/94] train loss: 0.227, accuracy: 0.938\n",
            "[Batch: 90/94] train loss: 0.350, accuracy: 0.875\n",
            "Epoch 8 train loss: 0.326, accuracy: 0.898 [ELT:  42.17 sec]\n",
            "Epoch 8 valid loss: 0.224, accuracy: 0.931 [ELT:  8.17 sec]\n",
            "\n",
            "------------ Epoch 9 / 20 ------------\n",
            "[Batch: 10/94] train loss: 0.228, accuracy: 0.938\n",
            "[Batch: 20/94] train loss: 0.661, accuracy: 0.844\n",
            "[Batch: 30/94] train loss: 0.329, accuracy: 0.906\n",
            "[Batch: 40/94] train loss: 0.252, accuracy: 0.938\n",
            "[Batch: 50/94] train loss: 0.401, accuracy: 0.844\n",
            "[Batch: 60/94] train loss: 0.504, accuracy: 0.812\n",
            "[Batch: 70/94] train loss: 0.620, accuracy: 0.781\n",
            "[Batch: 80/94] train loss: 0.135, accuracy: 0.969\n",
            "[Batch: 90/94] train loss: 0.251, accuracy: 0.906\n",
            "Epoch 9 train loss: 0.334, accuracy: 0.898 [ELT:  41.99 sec]\n",
            "Epoch 9 valid loss: 0.211, accuracy: 0.937 [ELT:  8.21 sec]\n",
            "\n",
            "------------ Epoch 10 / 20 ------------\n",
            "[Batch: 10/94] train loss: 0.210, accuracy: 0.906\n",
            "[Batch: 20/94] train loss: 0.303, accuracy: 0.938\n",
            "[Batch: 30/94] train loss: 0.346, accuracy: 0.938\n",
            "[Batch: 40/94] train loss: 0.274, accuracy: 0.906\n",
            "[Batch: 50/94] train loss: 0.162, accuracy: 1.000\n",
            "[Batch: 60/94] train loss: 0.302, accuracy: 0.906\n",
            "[Batch: 70/94] train loss: 0.385, accuracy: 0.906\n",
            "[Batch: 80/94] train loss: 0.318, accuracy: 0.906\n",
            "[Batch: 90/94] train loss: 0.420, accuracy: 0.781\n",
            "Epoch 10 train loss: 0.334, accuracy: 0.903 [ELT:  42.30 sec]\n",
            "Saved checkpoint checkpoints/checkpoint_clf_ep10_dt17.05.2022.23.11.57.pth.\n",
            "Epoch 10 valid loss: 0.221, accuracy: 0.939 [ELT:  8.19 sec]\n",
            "\n",
            "------------ Epoch 11 / 20 ------------\n",
            "[Batch: 10/94] train loss: 0.365, accuracy: 0.812\n",
            "[Batch: 20/94] train loss: 0.255, accuracy: 0.906\n",
            "[Batch: 30/94] train loss: 0.269, accuracy: 0.906\n",
            "[Batch: 40/94] train loss: 0.249, accuracy: 0.969\n",
            "[Batch: 50/94] train loss: 0.279, accuracy: 0.906\n",
            "[Batch: 60/94] train loss: 0.272, accuracy: 0.938\n",
            "[Batch: 70/94] train loss: 0.282, accuracy: 0.875\n",
            "[Batch: 80/94] train loss: 0.493, accuracy: 0.875\n",
            "[Batch: 90/94] train loss: 0.322, accuracy: 0.906\n",
            "Epoch 11 train loss: 0.350, accuracy: 0.888 [ELT:  42.52 sec]\n",
            "Epoch 11 valid loss: 0.217, accuracy: 0.940 [ELT:  8.28 sec]\n",
            "\n",
            "------------ Epoch 12 / 20 ------------\n",
            "[Batch: 10/94] train loss: 0.297, accuracy: 0.844\n",
            "[Batch: 20/94] train loss: 0.392, accuracy: 0.781\n",
            "[Batch: 30/94] train loss: 0.397, accuracy: 0.938\n",
            "[Batch: 40/94] train loss: 0.466, accuracy: 0.812\n",
            "[Batch: 50/94] train loss: 0.493, accuracy: 0.938\n",
            "[Batch: 60/94] train loss: 0.195, accuracy: 0.969\n",
            "[Batch: 70/94] train loss: 0.284, accuracy: 0.906\n",
            "[Batch: 80/94] train loss: 0.284, accuracy: 0.938\n",
            "[Batch: 90/94] train loss: 0.458, accuracy: 0.812\n",
            "Epoch 12 train loss: 0.343, accuracy: 0.890 [ELT:  42.56 sec]\n",
            "Epoch 12 valid loss: 0.217, accuracy: 0.933 [ELT:  8.19 sec]\n",
            "\n",
            "------------ Epoch 13 / 20 ------------\n",
            "[Batch: 10/94] train loss: 0.290, accuracy: 0.906\n",
            "[Batch: 20/94] train loss: 0.286, accuracy: 0.938\n",
            "[Batch: 30/94] train loss: 0.175, accuracy: 0.938\n",
            "[Batch: 40/94] train loss: 0.374, accuracy: 0.875\n",
            "[Batch: 50/94] train loss: 0.361, accuracy: 0.906\n",
            "[Batch: 60/94] train loss: 0.223, accuracy: 0.906\n",
            "[Batch: 70/94] train loss: 0.184, accuracy: 0.969\n",
            "[Batch: 80/94] train loss: 0.368, accuracy: 0.906\n",
            "[Batch: 90/94] train loss: 0.333, accuracy: 0.875\n",
            "Epoch 13 train loss: 0.333, accuracy: 0.894 [ELT:  42.54 sec]\n",
            "Epoch 13 valid loss: 0.213, accuracy: 0.940 [ELT:  8.22 sec]\n",
            "\n",
            "------------ Epoch 14 / 20 ------------\n",
            "[Batch: 10/94] train loss: 0.350, accuracy: 0.844\n",
            "[Batch: 20/94] train loss: 0.422, accuracy: 0.875\n",
            "[Batch: 30/94] train loss: 0.227, accuracy: 0.938\n",
            "[Batch: 40/94] train loss: 0.546, accuracy: 0.875\n",
            "[Batch: 50/94] train loss: 0.259, accuracy: 0.906\n",
            "[Batch: 60/94] train loss: 0.586, accuracy: 0.844\n",
            "[Batch: 70/94] train loss: 0.332, accuracy: 0.906\n",
            "[Batch: 80/94] train loss: 0.237, accuracy: 0.938\n",
            "[Batch: 90/94] train loss: 0.607, accuracy: 0.844\n",
            "Epoch 14 train loss: 0.345, accuracy: 0.896 [ELT:  42.49 sec]\n",
            "Epoch 14 valid loss: 0.218, accuracy: 0.937 [ELT:  8.20 sec]\n",
            "\n",
            "------------ Epoch 15 / 20 ------------\n",
            "[Batch: 10/94] train loss: 0.392, accuracy: 0.906\n",
            "[Batch: 20/94] train loss: 0.364, accuracy: 0.844\n",
            "[Batch: 30/94] train loss: 0.530, accuracy: 0.781\n",
            "[Batch: 40/94] train loss: 0.257, accuracy: 0.938\n",
            "[Batch: 50/94] train loss: 0.189, accuracy: 0.938\n",
            "[Batch: 60/94] train loss: 0.472, accuracy: 0.812\n",
            "[Batch: 70/94] train loss: 0.220, accuracy: 0.938\n",
            "[Batch: 80/94] train loss: 0.347, accuracy: 0.875\n",
            "[Batch: 90/94] train loss: 0.181, accuracy: 0.969\n",
            "Epoch 15 train loss: 0.346, accuracy: 0.896 [ELT:  42.72 sec]\n",
            "Epoch 15 valid loss: 0.225, accuracy: 0.934 [ELT:  8.22 sec]\n",
            "\n",
            "------------ Epoch 16 / 20 ------------\n",
            "[Batch: 10/94] train loss: 0.470, accuracy: 0.812\n",
            "[Batch: 20/94] train loss: 0.271, accuracy: 0.938\n",
            "[Batch: 30/94] train loss: 0.309, accuracy: 0.875\n",
            "[Batch: 40/94] train loss: 0.174, accuracy: 0.969\n",
            "[Batch: 50/94] train loss: 0.190, accuracy: 0.969\n",
            "[Batch: 60/94] train loss: 0.353, accuracy: 0.938\n",
            "[Batch: 70/94] train loss: 0.212, accuracy: 0.906\n",
            "[Batch: 80/94] train loss: 0.192, accuracy: 0.969\n",
            "[Batch: 90/94] train loss: 0.303, accuracy: 0.938\n",
            "Epoch 16 train loss: 0.344, accuracy: 0.893 [ELT:  42.37 sec]\n",
            "Epoch 16 valid loss: 0.216, accuracy: 0.940 [ELT:  8.20 sec]\n",
            "\n",
            "------------ Epoch 17 / 20 ------------\n",
            "[Batch: 10/94] train loss: 0.245, accuracy: 0.938\n",
            "[Batch: 20/94] train loss: 0.440, accuracy: 0.844\n",
            "[Batch: 30/94] train loss: 0.207, accuracy: 0.969\n",
            "[Batch: 40/94] train loss: 0.307, accuracy: 0.906\n",
            "[Batch: 50/94] train loss: 0.325, accuracy: 0.875\n",
            "[Batch: 60/94] train loss: 0.501, accuracy: 0.875\n",
            "[Batch: 70/94] train loss: 0.226, accuracy: 0.938\n",
            "[Batch: 80/94] train loss: 0.344, accuracy: 0.938\n",
            "[Batch: 90/94] train loss: 0.260, accuracy: 0.938\n",
            "Epoch 17 train loss: 0.335, accuracy: 0.900 [ELT:  42.61 sec]\n",
            "Epoch 17 valid loss: 0.221, accuracy: 0.933 [ELT:  8.22 sec]\n",
            "\n",
            "------------ Epoch 18 / 20 ------------\n",
            "[Batch: 10/94] train loss: 0.351, accuracy: 0.906\n",
            "[Batch: 20/94] train loss: 0.222, accuracy: 0.906\n",
            "[Batch: 30/94] train loss: 0.488, accuracy: 0.875\n",
            "[Batch: 40/94] train loss: 0.201, accuracy: 1.000\n",
            "[Batch: 50/94] train loss: 0.357, accuracy: 0.875\n",
            "[Batch: 60/94] train loss: 0.275, accuracy: 0.906\n",
            "[Batch: 70/94] train loss: 0.328, accuracy: 0.906\n",
            "[Batch: 80/94] train loss: 0.407, accuracy: 0.844\n",
            "[Batch: 90/94] train loss: 0.489, accuracy: 0.875\n",
            "Epoch 18 train loss: 0.333, accuracy: 0.903 [ELT:  42.49 sec]\n",
            "Epoch 18 valid loss: 0.211, accuracy: 0.937 [ELT:  8.20 sec]\n",
            "\n",
            "------------ Epoch 19 / 20 ------------\n",
            "[Batch: 10/94] train loss: 0.323, accuracy: 0.844\n",
            "[Batch: 20/94] train loss: 0.188, accuracy: 0.969\n",
            "[Batch: 30/94] train loss: 0.129, accuracy: 1.000\n",
            "[Batch: 40/94] train loss: 0.333, accuracy: 0.875\n",
            "[Batch: 50/94] train loss: 0.166, accuracy: 0.938\n",
            "[Batch: 60/94] train loss: 0.248, accuracy: 0.906\n",
            "[Batch: 70/94] train loss: 0.236, accuracy: 0.938\n",
            "[Batch: 80/94] train loss: 0.324, accuracy: 0.938\n",
            "[Batch: 90/94] train loss: 0.425, accuracy: 0.844\n",
            "Epoch 19 train loss: 0.331, accuracy: 0.898 [ELT:  42.60 sec]\n",
            "Epoch 19 valid loss: 0.218, accuracy: 0.935 [ELT:  8.23 sec]\n",
            "\n",
            "------------ Epoch 20 / 20 ------------\n",
            "[Batch: 10/94] train loss: 0.504, accuracy: 0.875\n",
            "[Batch: 20/94] train loss: 0.279, accuracy: 0.906\n",
            "[Batch: 30/94] train loss: 0.388, accuracy: 0.875\n",
            "[Batch: 40/94] train loss: 0.217, accuracy: 0.938\n",
            "[Batch: 50/94] train loss: 0.437, accuracy: 0.812\n",
            "[Batch: 60/94] train loss: 0.294, accuracy: 0.969\n",
            "[Batch: 70/94] train loss: 0.420, accuracy: 0.812\n",
            "[Batch: 80/94] train loss: 0.281, accuracy: 0.906\n",
            "[Batch: 90/94] train loss: 0.159, accuracy: 0.938\n",
            "Epoch 20 train loss: 0.331, accuracy: 0.899 [ELT:  42.57 sec]\n",
            "Saved checkpoint checkpoints/checkpoint_clf_ep20_dt17.05.2022.23.20.25.pth.\n",
            "Epoch 20 valid loss: 0.214, accuracy: 0.939 [ELT:  8.20 sec]\n",
            "\n",
            "DONE TRAINING. Elapsed time:  1033.87 sec]\n"
          ]
        }
      ]
    },
    {
      "cell_type": "markdown",
      "metadata": {
        "id": "J4ZazWRQ1XdZ"
      },
      "source": [
        "# Evaluation"
      ]
    },
    {
      "cell_type": "code",
      "source": [
        "!python eval_clf.py \\\n",
        "--device \"cuda\" \\\n",
        "--hdf5_path \"../../data/datasets/modelnet10_2048_normalized.hdf5\" \\\n",
        "--checkpoint_path \"checkpoints/checkpoint_clf_ep20_dt17.05.2022.23.20.25.pth\" \\\n",
        "--plot_confusion_mat 1 \\\n",
        "--plots_dir \"plots\""
      ],
      "metadata": {
        "colab": {
          "base_uri": "https://localhost:8080/"
        },
        "id": "aX2FxN-dMR5h",
        "outputId": "0441a9e9-bd75-4475-a1ab-325b6dcc7473"
      },
      "execution_count": 6,
      "outputs": [
        {
          "output_type": "stream",
          "name": "stdout",
          "text": [
            "Test loss: 0.290, accuracy: 0.888 [ELT:  10.46 sec]\n",
            "\n",
            "tensor([[ 47,   3,   0,   0,   0,   0,   0,   0,   0,   0],\n",
            "        [  0,  97,   0,   1,   0,   0,   0,   0,   2,   0],\n",
            "        [  0,   0, 100,   0,   0,   0,   0,   0,   0,   0],\n",
            "        [  1,   1,   0,  68,   4,   0,   4,   4,   4,   0],\n",
            "        [  0,   0,   0,   1,  73,   0,  11,   0,   1,   0],\n",
            "        [  0,   0,   0,   2,   5,  90,   3,   0,   0,   0],\n",
            "        [  0,   0,   0,   4,  12,   0,  69,   0,   1,   0],\n",
            "        [  0,   0,   0,   3,   0,   0,   1,  96,   0,   0],\n",
            "        [  0,   0,   0,  29,   0,   0,   2,   0,  69,   0],\n",
            "        [  1,   0,   2,   0,   0,   0,   0,   0,   0,  97]])\n"
          ]
        }
      ]
    },
    {
      "cell_type": "markdown",
      "metadata": {
        "id": "E-mmW2_V-nLf"
      },
      "source": [
        "# Inference"
      ]
    },
    {
      "cell_type": "code",
      "source": [
        "!python inference_clf.py \\\n",
        "--device \"cuda\" \\\n",
        "--object_path \"../../data/datasets/chair_0890.off\" \\\n",
        "--id_to_class_path \"../../data/datasets/modelnet10_2048_normalized_id_to_class.pkl\" \\\n",
        "--checkpoint_path \"checkpoints/checkpoint_clf_ep20_dt17.05.2022.23.20.25.pth\""
      ],
      "metadata": {
        "colab": {
          "base_uri": "https://localhost:8080/"
        },
        "id": "i8iQhnk8H49v",
        "outputId": "ede1836b-1b08-475a-fac3-7e2fd821e862"
      },
      "execution_count": 7,
      "outputs": [
        {
          "output_type": "stream",
          "name": "stdout",
          "text": [
            "chair : 0.992\n",
            "toilet : 0.003\n",
            "table : 0.002\n",
            "night_stand : 0.001\n",
            "bed : 0.001\n"
          ]
        }
      ]
    },
    {
      "cell_type": "code",
      "source": [
        ""
      ],
      "metadata": {
        "id": "6YKynhuE9YYd"
      },
      "execution_count": null,
      "outputs": []
    }
  ],
  "metadata": {
    "accelerator": "GPU",
    "colab": {
      "collapsed_sections": [],
      "name": "run_clf.ipynb",
      "provenance": []
    },
    "kernelspec": {
      "display_name": "Python 3",
      "name": "python3"
    },
    "language_info": {
      "name": "python"
    }
  },
  "nbformat": 4,
  "nbformat_minor": 0
}